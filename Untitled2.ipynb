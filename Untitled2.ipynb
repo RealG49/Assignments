{
 "cells": [
  {
   "cell_type": "code",
   "execution_count": 1,
   "id": "c8b42557",
   "metadata": {
    "ExecuteTime": {
     "end_time": "2022-12-16T17:54:08.003185Z",
     "start_time": "2022-12-16T17:54:07.972392Z"
    }
   },
   "outputs": [],
   "source": [
    "d = \"it's a notebook\"\n"
   ]
  },
  {
   "cell_type": "code",
   "execution_count": 2,
   "id": "1441b3ca",
   "metadata": {
    "ExecuteTime": {
     "end_time": "2022-12-16T17:54:22.830440Z",
     "start_time": "2022-12-16T17:54:22.807275Z"
    }
   },
   "outputs": [
    {
     "name": "stdout",
     "output_type": "stream",
     "text": [
      "it's a notebook\n"
     ]
    }
   ],
   "source": [
    "print (d)"
   ]
  },
  {
   "cell_type": "code",
   "execution_count": 4,
   "id": "904ea72d",
   "metadata": {
    "ExecuteTime": {
     "end_time": "2022-12-16T18:01:25.056942Z",
     "start_time": "2022-12-16T18:01:25.034427Z"
    }
   },
   "outputs": [],
   "source": [
    "s = 'its a notebook'\n",
    "s1 = \"it's a notebook\"\n",
    "s2 = '''it's a notebook'''\n",
    "#these all statements are same\n"
   ]
  },
  {
   "cell_type": "code",
   "execution_count": 5,
   "id": "510441db",
   "metadata": {
    "ExecuteTime": {
     "end_time": "2022-12-16T18:05:23.204386Z",
     "start_time": "2022-12-16T18:05:23.179387Z"
    }
   },
   "outputs": [],
   "source": [
    "#title : esc + 1 markdown : esc + m\n"
   ]
  },
  {
   "cell_type": "markdown",
   "id": "ffc50608",
   "metadata": {},
   "source": [
    "# typecasting \n",
    "it is used to change to change the data type of your variable\n"
   ]
  },
  {
   "cell_type": "code",
   "execution_count": 6,
   "id": "05925c48",
   "metadata": {
    "ExecuteTime": {
     "end_time": "2022-12-16T18:09:40.665456Z",
     "start_time": "2022-12-16T18:09:40.643666Z"
    }
   },
   "outputs": [],
   "source": [
    "a = 10.9"
   ]
  },
  {
   "cell_type": "code",
   "execution_count": 7,
   "id": "0caf64e7",
   "metadata": {
    "ExecuteTime": {
     "end_time": "2022-12-16T18:09:53.249708Z",
     "start_time": "2022-12-16T18:09:53.197863Z"
    }
   },
   "outputs": [
    {
     "data": {
      "text/plain": [
       "float"
      ]
     },
     "execution_count": 7,
     "metadata": {},
     "output_type": "execute_result"
    }
   ],
   "source": [
    "type(a)"
   ]
  },
  {
   "cell_type": "code",
   "execution_count": 8,
   "id": "5194019e",
   "metadata": {
    "ExecuteTime": {
     "end_time": "2022-12-16T18:10:10.735609Z",
     "start_time": "2022-12-16T18:10:10.721873Z"
    }
   },
   "outputs": [
    {
     "data": {
      "text/plain": [
       "10"
      ]
     },
     "execution_count": 8,
     "metadata": {},
     "output_type": "execute_result"
    }
   ],
   "source": [
    "int (a)"
   ]
  },
  {
   "cell_type": "code",
   "execution_count": 13,
   "id": "b60e2375",
   "metadata": {
    "ExecuteTime": {
     "end_time": "2022-12-16T18:17:51.997261Z",
     "start_time": "2022-12-16T18:17:51.968606Z"
    }
   },
   "outputs": [
    {
     "name": "stdout",
     "output_type": "stream",
     "text": [
      "10.9\n"
     ]
    },
    {
     "data": {
      "text/plain": [
       "str"
      ]
     },
     "execution_count": 13,
     "metadata": {},
     "output_type": "execute_result"
    }
   ],
   "source": [
    "a = str(a)\n",
    "\n",
    "print (a)\n",
    "type(a)"
   ]
  },
  {
   "cell_type": "markdown",
   "id": "9b967eca",
   "metadata": {},
   "source": [
    "# three improtant string functions to be usd\n",
    "split function\n",
    "replace\n",
    "join"
   ]
  },
  {
   "cell_type": "markdown",
   "id": "ee26022a",
   "metadata": {},
   "source": [
    "# string methods"
   ]
  },
  {
   "cell_type": "code",
   "execution_count": 2,
   "id": "47d10368",
   "metadata": {
    "ExecuteTime": {
     "end_time": "2022-12-18T09:47:48.098755Z",
     "start_time": "2022-12-18T09:47:48.090756Z"
    }
   },
   "outputs": [],
   "source": [
    "#createstring\n",
    "s = 'we are learning python'\n"
   ]
  },
  {
   "cell_type": "code",
   "execution_count": 3,
   "id": "7169f909",
   "metadata": {
    "ExecuteTime": {
     "end_time": "2022-12-18T09:48:20.318654Z",
     "start_time": "2022-12-18T09:48:20.288847Z"
    }
   },
   "outputs": [
    {
     "data": {
      "text/plain": [
       "'We are learning python'"
      ]
     },
     "execution_count": 3,
     "metadata": {},
     "output_type": "execute_result"
    }
   ],
   "source": [
    "s.capitalize()"
   ]
  },
  {
   "cell_type": "code",
   "execution_count": 4,
   "id": "a3fcaab2",
   "metadata": {
    "ExecuteTime": {
     "end_time": "2022-12-18T09:49:37.335170Z",
     "start_time": "2022-12-18T09:49:37.312715Z"
    }
   },
   "outputs": [
    {
     "data": {
      "text/plain": [
       "'w#e# #a#r#e# #l#e#a#r#n#i#n#g# #p#y#t#h#o#n'"
      ]
     },
     "execution_count": 4,
     "metadata": {},
     "output_type": "execute_result"
    }
   ],
   "source": [
    "'#'.join(s)"
   ]
  },
  {
   "cell_type": "code",
   "execution_count": 5,
   "id": "8fd839a9",
   "metadata": {
    "ExecuteTime": {
     "end_time": "2022-12-18T09:49:58.927982Z",
     "start_time": "2022-12-18T09:49:58.906566Z"
    }
   },
   "outputs": [
    {
     "data": {
      "text/plain": [
       "'we are learning python'"
      ]
     },
     "execution_count": 5,
     "metadata": {},
     "output_type": "execute_result"
    }
   ],
   "source": [
    "s"
   ]
  },
  {
   "cell_type": "code",
   "execution_count": 6,
   "id": "b12da48c",
   "metadata": {
    "ExecuteTime": {
     "end_time": "2022-12-18T09:50:41.390603Z",
     "start_time": "2022-12-18T09:50:41.368804Z"
    }
   },
   "outputs": [
    {
     "data": {
      "text/plain": [
       "'they are learning python'"
      ]
     },
     "execution_count": 6,
     "metadata": {},
     "output_type": "execute_result"
    }
   ],
   "source": [
    "s.replace('we','they')"
   ]
  },
  {
   "cell_type": "code",
   "execution_count": 7,
   "id": "5fa68916",
   "metadata": {
    "ExecuteTime": {
     "end_time": "2022-12-18T09:51:42.161007Z",
     "start_time": "2022-12-18T09:51:42.138724Z"
    }
   },
   "outputs": [
    {
     "data": {
      "text/plain": [
       "'we-are-learning-python'"
      ]
     },
     "execution_count": 7,
     "metadata": {},
     "output_type": "execute_result"
    }
   ],
   "source": [
    "s.replace(' ','-')"
   ]
  },
  {
   "cell_type": "code",
   "execution_count": 11,
   "id": "d6e3c7ff",
   "metadata": {
    "ExecuteTime": {
     "end_time": "2022-12-18T09:54:10.634815Z",
     "start_time": "2022-12-18T09:54:10.605911Z"
    }
   },
   "outputs": [
    {
     "data": {
      "text/plain": [
       "'wenikhilarenikhillearningnikhilpython'"
      ]
     },
     "execution_count": 11,
     "metadata": {},
     "output_type": "execute_result"
    }
   ],
   "source": [
    "s.replace(' ','nikhil')"
   ]
  },
  {
   "cell_type": "code",
   "execution_count": 12,
   "id": "37930720",
   "metadata": {
    "ExecuteTime": {
     "end_time": "2022-12-18T09:55:03.558732Z",
     "start_time": "2022-12-18T09:55:03.534209Z"
    }
   },
   "outputs": [
    {
     "data": {
      "text/plain": [
       "['we are learning python']"
      ]
     },
     "execution_count": 12,
     "metadata": {},
     "output_type": "execute_result"
    }
   ],
   "source": [
    "s.split('nikhil')"
   ]
  },
  {
   "cell_type": "markdown",
   "id": "8aa24b2b",
   "metadata": {},
   "source": [
    "# data structure\n",
    "list\n",
    "tuple\n",
    "dictionary\n",
    "sets"
   ]
  },
  {
   "cell_type": "markdown",
   "id": "b0e5c95a",
   "metadata": {},
   "source": [
    "# list\n"
   ]
  },
  {
   "cell_type": "code",
   "execution_count": 2,
   "id": "58e8a157",
   "metadata": {
    "ExecuteTime": {
     "end_time": "2023-01-06T11:23:06.321548Z",
     "start_time": "2023-01-06T11:23:06.300552Z"
    }
   },
   "outputs": [],
   "source": [
    "lst = []\n"
   ]
  },
  {
   "cell_type": "code",
   "execution_count": 3,
   "id": "b94907b8",
   "metadata": {
    "ExecuteTime": {
     "end_time": "2023-01-06T11:23:28.122532Z",
     "start_time": "2023-01-06T11:23:28.098191Z"
    }
   },
   "outputs": [
    {
     "data": {
      "text/plain": [
       "list"
      ]
     },
     "execution_count": 3,
     "metadata": {},
     "output_type": "execute_result"
    }
   ],
   "source": [
    "type(lst)"
   ]
  },
  {
   "cell_type": "code",
   "execution_count": 5,
   "id": "a85c80da",
   "metadata": {
    "ExecuteTime": {
     "end_time": "2023-01-06T11:25:26.930185Z",
     "start_time": "2023-01-06T11:25:26.924181Z"
    }
   },
   "outputs": [],
   "source": [
    "lst = ['right',12,46,84]"
   ]
  },
  {
   "cell_type": "code",
   "execution_count": 6,
   "id": "e3791ad0",
   "metadata": {
    "ExecuteTime": {
     "end_time": "2023-01-06T11:25:35.001885Z",
     "start_time": "2023-01-06T11:25:34.981063Z"
    }
   },
   "outputs": [
    {
     "data": {
      "text/plain": [
       "['right', 12, 46, 84]"
      ]
     },
     "execution_count": 6,
     "metadata": {},
     "output_type": "execute_result"
    }
   ],
   "source": [
    "lst\n"
   ]
  },
  {
   "cell_type": "code",
   "execution_count": 7,
   "id": "39375949",
   "metadata": {
    "ExecuteTime": {
     "end_time": "2023-01-06T11:26:38.293773Z",
     "start_time": "2023-01-06T11:26:38.282705Z"
    }
   },
   "outputs": [
    {
     "data": {
      "text/plain": [
       "84"
      ]
     },
     "execution_count": 7,
     "metadata": {},
     "output_type": "execute_result"
    }
   ],
   "source": [
    "#accessing elements from the list\n",
    "lst[3]"
   ]
  },
  {
   "cell_type": "code",
   "execution_count": 8,
   "id": "48044533",
   "metadata": {
    "ExecuteTime": {
     "end_time": "2023-01-06T11:27:06.205476Z",
     "start_time": "2023-01-06T11:27:06.180652Z"
    }
   },
   "outputs": [
    {
     "data": {
      "text/plain": [
       "[12, 46]"
      ]
     },
     "execution_count": 8,
     "metadata": {},
     "output_type": "execute_result"
    }
   ],
   "source": [
    "lst[1:3]"
   ]
  },
  {
   "cell_type": "code",
   "execution_count": 9,
   "id": "27a97ed4",
   "metadata": {
    "ExecuteTime": {
     "end_time": "2023-01-06T11:27:26.565783Z",
     "start_time": "2023-01-06T11:27:26.545060Z"
    }
   },
   "outputs": [
    {
     "data": {
      "text/plain": [
       "84"
      ]
     },
     "execution_count": 9,
     "metadata": {},
     "output_type": "execute_result"
    }
   ],
   "source": [
    "lst[-1]"
   ]
  },
  {
   "cell_type": "code",
   "execution_count": 10,
   "id": "f625e363",
   "metadata": {
    "ExecuteTime": {
     "end_time": "2023-01-06T11:27:54.260765Z",
     "start_time": "2023-01-06T11:27:54.239868Z"
    }
   },
   "outputs": [],
   "source": [
    "lst.append(6000)"
   ]
  },
  {
   "cell_type": "code",
   "execution_count": 11,
   "id": "9b5a8d7c",
   "metadata": {
    "ExecuteTime": {
     "end_time": "2023-01-06T11:28:02.654711Z",
     "start_time": "2023-01-06T11:28:02.646801Z"
    }
   },
   "outputs": [
    {
     "data": {
      "text/plain": [
       "['right', 12, 46, 84, 6000]"
      ]
     },
     "execution_count": 11,
     "metadata": {},
     "output_type": "execute_result"
    }
   ],
   "source": [
    "lst\n"
   ]
  },
  {
   "cell_type": "code",
   "execution_count": 12,
   "id": "283df0d7",
   "metadata": {
    "ExecuteTime": {
     "end_time": "2023-01-06T11:30:00.155817Z",
     "start_time": "2023-01-06T11:30:00.143251Z"
    }
   },
   "outputs": [
    {
     "data": {
      "text/plain": [
       "0"
      ]
     },
     "execution_count": 12,
     "metadata": {},
     "output_type": "execute_result"
    }
   ],
   "source": [
    "lst.count(600)"
   ]
  },
  {
   "cell_type": "code",
   "execution_count": 13,
   "id": "f376b23a",
   "metadata": {
    "ExecuteTime": {
     "end_time": "2023-01-06T11:30:19.862678Z",
     "start_time": "2023-01-06T11:30:19.856608Z"
    }
   },
   "outputs": [
    {
     "data": {
      "text/plain": [
       "1"
      ]
     },
     "execution_count": 13,
     "metadata": {},
     "output_type": "execute_result"
    }
   ],
   "source": [
    "lst.count(46)\n"
   ]
  },
  {
   "cell_type": "code",
   "execution_count": 14,
   "id": "59dc3d5b",
   "metadata": {
    "ExecuteTime": {
     "end_time": "2023-01-06T11:30:54.697410Z",
     "start_time": "2023-01-06T11:30:54.690492Z"
    }
   },
   "outputs": [
    {
     "data": {
      "text/plain": [
       "0"
      ]
     },
     "execution_count": 14,
     "metadata": {},
     "output_type": "execute_result"
    }
   ],
   "source": [
    "lst.index('right')"
   ]
  },
  {
   "cell_type": "code",
   "execution_count": 15,
   "id": "1ec2fc6a",
   "metadata": {
    "ExecuteTime": {
     "end_time": "2023-01-06T11:31:32.830961Z",
     "start_time": "2023-01-06T11:31:32.810261Z"
    }
   },
   "outputs": [],
   "source": [
    "lst.insert(-1,5768)"
   ]
  },
  {
   "cell_type": "code",
   "execution_count": 16,
   "id": "fd20466f",
   "metadata": {
    "ExecuteTime": {
     "end_time": "2023-01-06T11:31:39.268687Z",
     "start_time": "2023-01-06T11:31:39.247687Z"
    }
   },
   "outputs": [
    {
     "data": {
      "text/plain": [
       "['right', 12, 46, 84, 5768, 6000]"
      ]
     },
     "execution_count": 16,
     "metadata": {},
     "output_type": "execute_result"
    }
   ],
   "source": [
    "lst\n"
   ]
  },
  {
   "cell_type": "code",
   "execution_count": 17,
   "id": "6a1ad6cb",
   "metadata": {
    "ExecuteTime": {
     "end_time": "2023-01-06T11:32:06.735673Z",
     "start_time": "2023-01-06T11:32:06.729596Z"
    }
   },
   "outputs": [
    {
     "data": {
      "text/plain": [
       "<function list.pop(index=-1, /)>"
      ]
     },
     "execution_count": 17,
     "metadata": {},
     "output_type": "execute_result"
    }
   ],
   "source": [
    "lst.pop\n"
   ]
  },
  {
   "cell_type": "code",
   "execution_count": 20,
   "id": "5f9517a4",
   "metadata": {
    "ExecuteTime": {
     "end_time": "2023-01-06T11:32:50.245617Z",
     "start_time": "2023-01-06T11:32:50.223252Z"
    }
   },
   "outputs": [
    {
     "data": {
      "text/plain": [
       "6000"
      ]
     },
     "execution_count": 20,
     "metadata": {},
     "output_type": "execute_result"
    }
   ],
   "source": [
    "lst.pop()"
   ]
  },
  {
   "cell_type": "code",
   "execution_count": 21,
   "id": "776e3972",
   "metadata": {
    "ExecuteTime": {
     "end_time": "2023-01-06T11:32:54.686260Z",
     "start_time": "2023-01-06T11:32:54.679744Z"
    }
   },
   "outputs": [
    {
     "data": {
      "text/plain": [
       "['right', 12, 46, 84, 5768]"
      ]
     },
     "execution_count": 21,
     "metadata": {},
     "output_type": "execute_result"
    }
   ],
   "source": [
    "lst"
   ]
  },
  {
   "cell_type": "code",
   "execution_count": 22,
   "id": "f8275f80",
   "metadata": {
    "ExecuteTime": {
     "end_time": "2023-01-06T11:33:16.986175Z",
     "start_time": "2023-01-06T11:33:16.979444Z"
    }
   },
   "outputs": [],
   "source": [
    "lst.reverse()"
   ]
  },
  {
   "cell_type": "code",
   "execution_count": 23,
   "id": "203189bc",
   "metadata": {
    "ExecuteTime": {
     "end_time": "2023-01-06T11:33:20.806482Z",
     "start_time": "2023-01-06T11:33:20.798059Z"
    }
   },
   "outputs": [
    {
     "data": {
      "text/plain": [
       "[5768, 84, 46, 12, 'right']"
      ]
     },
     "execution_count": 23,
     "metadata": {},
     "output_type": "execute_result"
    }
   ],
   "source": [
    "lst"
   ]
  },
  {
   "cell_type": "code",
   "execution_count": 24,
   "id": "960ed5f7",
   "metadata": {
    "ExecuteTime": {
     "end_time": "2023-01-06T11:33:49.516813Z",
     "start_time": "2023-01-06T11:33:49.510806Z"
    }
   },
   "outputs": [],
   "source": [
    "lst.remove(84)"
   ]
  },
  {
   "cell_type": "code",
   "execution_count": 25,
   "id": "024f9e8d",
   "metadata": {
    "ExecuteTime": {
     "end_time": "2023-01-06T11:33:53.917782Z",
     "start_time": "2023-01-06T11:33:53.894177Z"
    }
   },
   "outputs": [
    {
     "data": {
      "text/plain": [
       "[5768, 46, 12, 'right']"
      ]
     },
     "execution_count": 25,
     "metadata": {},
     "output_type": "execute_result"
    }
   ],
   "source": [
    "lst"
   ]
  },
  {
   "cell_type": "code",
   "execution_count": 27,
   "id": "9c261735",
   "metadata": {
    "ExecuteTime": {
     "end_time": "2023-01-06T11:36:01.247396Z",
     "start_time": "2023-01-06T11:36:01.241576Z"
    }
   },
   "outputs": [],
   "source": [
    "\n",
    "lst[3] = 'left'"
   ]
  },
  {
   "cell_type": "code",
   "execution_count": 28,
   "id": "55c767ee",
   "metadata": {
    "ExecuteTime": {
     "end_time": "2023-01-06T11:36:12.406050Z",
     "start_time": "2023-01-06T11:36:12.397918Z"
    }
   },
   "outputs": [
    {
     "data": {
      "text/plain": [
       "[5768, 46, 12, 'left']"
      ]
     },
     "execution_count": 28,
     "metadata": {},
     "output_type": "execute_result"
    }
   ],
   "source": [
    "lst"
   ]
  },
  {
   "cell_type": "code",
   "execution_count": 29,
   "id": "ac148e14",
   "metadata": {
    "ExecuteTime": {
     "end_time": "2023-01-06T11:37:01.671490Z",
     "start_time": "2023-01-06T11:37:01.664442Z"
    }
   },
   "outputs": [],
   "source": [
    "lst[-1] = 'dianasaur'"
   ]
  },
  {
   "cell_type": "code",
   "execution_count": 30,
   "id": "3ba335c2",
   "metadata": {
    "ExecuteTime": {
     "end_time": "2023-01-06T11:37:04.834535Z",
     "start_time": "2023-01-06T11:37:04.811483Z"
    }
   },
   "outputs": [
    {
     "data": {
      "text/plain": [
       "[5768, 46, 12, 'dianasaur']"
      ]
     },
     "execution_count": 30,
     "metadata": {},
     "output_type": "execute_result"
    }
   ],
   "source": [
    "lst"
   ]
  },
  {
   "cell_type": "markdown",
   "id": "f016f27f",
   "metadata": {},
   "source": [
    "# tuple\n",
    "-tuple are ordered heterogenous data structure\n",
    "-tuples are immutable"
   ]
  },
  {
   "cell_type": "code",
   "execution_count": 31,
   "id": "4f0db3f2",
   "metadata": {
    "ExecuteTime": {
     "end_time": "2023-01-06T16:02:43.948660Z",
     "start_time": "2023-01-06T16:02:43.925661Z"
    }
   },
   "outputs": [],
   "source": [
    "t=(12,45,'hello',46.78)"
   ]
  },
  {
   "cell_type": "code",
   "execution_count": 32,
   "id": "567663f3",
   "metadata": {
    "ExecuteTime": {
     "end_time": "2023-01-06T16:03:06.462292Z",
     "start_time": "2023-01-06T16:03:06.454292Z"
    }
   },
   "outputs": [
    {
     "data": {
      "text/plain": [
       "tuple"
      ]
     },
     "execution_count": 32,
     "metadata": {},
     "output_type": "execute_result"
    }
   ],
   "source": [
    "type(t)"
   ]
  },
  {
   "cell_type": "code",
   "execution_count": 33,
   "id": "b9fc39a2",
   "metadata": {
    "ExecuteTime": {
     "end_time": "2023-01-06T16:03:23.024513Z",
     "start_time": "2023-01-06T16:03:23.008751Z"
    }
   },
   "outputs": [
    {
     "data": {
      "text/plain": [
       "(12, 45, 'hello', 46.78)"
      ]
     },
     "execution_count": 33,
     "metadata": {},
     "output_type": "execute_result"
    }
   ],
   "source": [
    "t"
   ]
  },
  {
   "cell_type": "code",
   "execution_count": 34,
   "id": "5dd37b55",
   "metadata": {
    "ExecuteTime": {
     "end_time": "2023-01-06T16:04:14.588227Z",
     "start_time": "2023-01-06T16:04:14.574216Z"
    }
   },
   "outputs": [
    {
     "data": {
      "text/plain": [
       "1"
      ]
     },
     "execution_count": 34,
     "metadata": {},
     "output_type": "execute_result"
    }
   ],
   "source": [
    "t.count(45)"
   ]
  },
  {
   "cell_type": "code",
   "execution_count": 35,
   "id": "3bdbab41",
   "metadata": {
    "ExecuteTime": {
     "end_time": "2023-01-06T16:04:39.971920Z",
     "start_time": "2023-01-06T16:04:39.956551Z"
    }
   },
   "outputs": [
    {
     "data": {
      "text/plain": [
       "'hello'"
      ]
     },
     "execution_count": 35,
     "metadata": {},
     "output_type": "execute_result"
    }
   ],
   "source": [
    "t[2]"
   ]
  },
  {
   "cell_type": "code",
   "execution_count": 36,
   "id": "93d9fbc2",
   "metadata": {
    "ExecuteTime": {
     "end_time": "2023-01-06T16:05:03.647418Z",
     "start_time": "2023-01-06T16:05:03.632946Z"
    }
   },
   "outputs": [
    {
     "data": {
      "text/plain": [
       "(45, 'hello', 46.78)"
      ]
     },
     "execution_count": 36,
     "metadata": {},
     "output_type": "execute_result"
    }
   ],
   "source": [
    "t[1:]"
   ]
  },
  {
   "cell_type": "code",
   "execution_count": 37,
   "id": "914ad1bd",
   "metadata": {
    "ExecuteTime": {
     "end_time": "2023-01-06T16:05:23.805607Z",
     "start_time": "2023-01-06T16:05:23.791508Z"
    }
   },
   "outputs": [
    {
     "data": {
      "text/plain": [
       "(12, 45, 'hello', 46.78)"
      ]
     },
     "execution_count": 37,
     "metadata": {},
     "output_type": "execute_result"
    }
   ],
   "source": [
    "t[0:]"
   ]
  },
  {
   "cell_type": "code",
   "execution_count": 38,
   "id": "601fe22b",
   "metadata": {
    "ExecuteTime": {
     "end_time": "2023-01-06T16:06:16.087549Z",
     "start_time": "2023-01-06T16:06:16.073532Z"
    }
   },
   "outputs": [],
   "source": [
    "#replacing elements"
   ]
  },
  {
   "cell_type": "code",
   "execution_count": 39,
   "id": "907feeb2",
   "metadata": {
    "ExecuteTime": {
     "end_time": "2023-01-06T16:06:34.866798Z",
     "start_time": "2023-01-06T16:06:34.850374Z"
    }
   },
   "outputs": [
    {
     "data": {
      "text/plain": [
       "(12, 45, 'hello', 46.78)"
      ]
     },
     "execution_count": 39,
     "metadata": {},
     "output_type": "execute_result"
    }
   ],
   "source": [
    "t"
   ]
  },
  {
   "cell_type": "code",
   "execution_count": 40,
   "id": "98147718",
   "metadata": {
    "ExecuteTime": {
     "end_time": "2023-01-06T16:07:00.874828Z",
     "start_time": "2023-01-06T16:07:00.848716Z"
    }
   },
   "outputs": [
    {
     "ename": "TypeError",
     "evalue": "'tuple' object does not support item assignment",
     "output_type": "error",
     "traceback": [
      "\u001b[1;31m---------------------------------------------------------------------------\u001b[0m",
      "\u001b[1;31mTypeError\u001b[0m                                 Traceback (most recent call last)",
      "\u001b[1;32m~\\AppData\\Local\\Temp\\ipykernel_9240\\855135036.py\u001b[0m in \u001b[0;36m<module>\u001b[1;34m\u001b[0m\n\u001b[1;32m----> 1\u001b[1;33m \u001b[0mt\u001b[0m\u001b[1;33m[\u001b[0m\u001b[1;36m2\u001b[0m\u001b[1;33m]\u001b[0m \u001b[1;33m=\u001b[0m \u001b[1;36m400\u001b[0m\u001b[1;33m\u001b[0m\u001b[1;33m\u001b[0m\u001b[0m\n\u001b[0m",
      "\u001b[1;31mTypeError\u001b[0m: 'tuple' object does not support item assignment"
     ]
    }
   ],
   "source": [
    "t[2] = 400"
   ]
  },
  {
   "cell_type": "code",
   "execution_count": 41,
   "id": "e780e82d",
   "metadata": {
    "ExecuteTime": {
     "end_time": "2023-01-06T16:07:27.918663Z",
     "start_time": "2023-01-06T16:07:27.913563Z"
    }
   },
   "outputs": [],
   "source": [
    "t=list(t)"
   ]
  },
  {
   "cell_type": "code",
   "execution_count": 42,
   "id": "dadb0064",
   "metadata": {
    "ExecuteTime": {
     "end_time": "2023-01-06T16:07:39.615182Z",
     "start_time": "2023-01-06T16:07:39.595181Z"
    }
   },
   "outputs": [
    {
     "data": {
      "text/plain": [
       "list"
      ]
     },
     "execution_count": 42,
     "metadata": {},
     "output_type": "execute_result"
    }
   ],
   "source": [
    "type(t)"
   ]
  },
  {
   "cell_type": "code",
   "execution_count": 43,
   "id": "1b8dad1b",
   "metadata": {
    "ExecuteTime": {
     "end_time": "2023-01-06T16:08:12.483842Z",
     "start_time": "2023-01-06T16:08:12.479845Z"
    }
   },
   "outputs": [],
   "source": [
    "t[2] = 200"
   ]
  },
  {
   "cell_type": "code",
   "execution_count": 44,
   "id": "dae2d890",
   "metadata": {
    "ExecuteTime": {
     "end_time": "2023-01-06T16:08:18.848718Z",
     "start_time": "2023-01-06T16:08:18.835087Z"
    }
   },
   "outputs": [
    {
     "data": {
      "text/plain": [
       "[12, 45, 200, 46.78]"
      ]
     },
     "execution_count": 44,
     "metadata": {},
     "output_type": "execute_result"
    }
   ],
   "source": [
    "t"
   ]
  },
  {
   "cell_type": "code",
   "execution_count": 45,
   "id": "941fabc4",
   "metadata": {
    "ExecuteTime": {
     "end_time": "2023-01-06T16:08:48.276027Z",
     "start_time": "2023-01-06T16:08:48.244604Z"
    }
   },
   "outputs": [],
   "source": [
    "t = tuple(t)"
   ]
  },
  {
   "cell_type": "code",
   "execution_count": 46,
   "id": "08daac26",
   "metadata": {
    "ExecuteTime": {
     "end_time": "2023-01-06T16:08:56.286298Z",
     "start_time": "2023-01-06T16:08:56.279195Z"
    }
   },
   "outputs": [
    {
     "data": {
      "text/plain": [
       "tuple"
      ]
     },
     "execution_count": 46,
     "metadata": {},
     "output_type": "execute_result"
    }
   ],
   "source": [
    "type(t)"
   ]
  },
  {
   "cell_type": "markdown",
   "id": "f4141e50",
   "metadata": {},
   "source": [
    "# Dictionaries\n",
    "1. python dictionaries are ordered collection of items\n",
    "2. Dictionaries are mutable data structure\n",
    "3. it has key and value pair"
   ]
  },
  {
   "cell_type": "code",
   "execution_count": 47,
   "id": "b2e08fa8",
   "metadata": {
    "ExecuteTime": {
     "end_time": "2023-01-06T16:12:54.845284Z",
     "start_time": "2023-01-06T16:12:54.835303Z"
    }
   },
   "outputs": [],
   "source": [
    "#creating an empty dictionary\n"
   ]
  },
  {
   "cell_type": "code",
   "execution_count": 51,
   "id": "39557490",
   "metadata": {
    "ExecuteTime": {
     "end_time": "2023-01-06T16:14:06.873872Z",
     "start_time": "2023-01-06T16:14:06.866774Z"
    }
   },
   "outputs": [],
   "source": [
    "X = {}"
   ]
  },
  {
   "cell_type": "code",
   "execution_count": 53,
   "id": "b1419cfd",
   "metadata": {
    "ExecuteTime": {
     "end_time": "2023-01-06T16:14:23.519739Z",
     "start_time": "2023-01-06T16:14:23.505724Z"
    }
   },
   "outputs": [
    {
     "data": {
      "text/plain": [
       "dict"
      ]
     },
     "execution_count": 53,
     "metadata": {},
     "output_type": "execute_result"
    }
   ],
   "source": [
    "type(X)"
   ]
  },
  {
   "cell_type": "code",
   "execution_count": 54,
   "id": "e850f75e",
   "metadata": {
    "ExecuteTime": {
     "end_time": "2023-01-06T16:19:13.204898Z",
     "start_time": "2023-01-06T16:19:13.199321Z"
    }
   },
   "outputs": [],
   "source": [
    "X = {1:23,2:'eda',3:45}"
   ]
  },
  {
   "cell_type": "code",
   "execution_count": 55,
   "id": "a6af1164",
   "metadata": {
    "ExecuteTime": {
     "end_time": "2023-01-06T16:19:17.674666Z",
     "start_time": "2023-01-06T16:19:17.667692Z"
    }
   },
   "outputs": [
    {
     "data": {
      "text/plain": [
       "{1: 23, 2: 'eda', 3: 45}"
      ]
     },
     "execution_count": 55,
     "metadata": {},
     "output_type": "execute_result"
    }
   ],
   "source": [
    "X"
   ]
  },
  {
   "cell_type": "code",
   "execution_count": 56,
   "id": "6f38eb93",
   "metadata": {
    "ExecuteTime": {
     "end_time": "2023-01-06T17:18:30.236812Z",
     "start_time": "2023-01-06T17:18:30.228812Z"
    }
   },
   "outputs": [
    {
     "data": {
      "text/plain": [
       "45"
      ]
     },
     "execution_count": 56,
     "metadata": {},
     "output_type": "execute_result"
    }
   ],
   "source": [
    "X.get(3)"
   ]
  },
  {
   "cell_type": "code",
   "execution_count": 57,
   "id": "6debadfd",
   "metadata": {
    "ExecuteTime": {
     "end_time": "2023-01-06T17:18:52.103329Z",
     "start_time": "2023-01-06T17:18:52.087242Z"
    }
   },
   "outputs": [],
   "source": [
    "#items\n"
   ]
  },
  {
   "cell_type": "code",
   "execution_count": 58,
   "id": "677e428e",
   "metadata": {
    "ExecuteTime": {
     "end_time": "2023-01-06T17:19:18.597252Z",
     "start_time": "2023-01-06T17:19:18.581707Z"
    }
   },
   "outputs": [
    {
     "data": {
      "text/plain": [
       "dict_items([(1, 23), (2, 'eda'), (3, 45)])"
      ]
     },
     "execution_count": 58,
     "metadata": {},
     "output_type": "execute_result"
    }
   ],
   "source": [
    "X.items()"
   ]
  },
  {
   "cell_type": "code",
   "execution_count": 59,
   "id": "c94293fa",
   "metadata": {
    "ExecuteTime": {
     "end_time": "2023-01-06T17:20:08.086946Z",
     "start_time": "2023-01-06T17:20:08.066458Z"
    }
   },
   "outputs": [
    {
     "data": {
      "text/plain": [
       "dict_keys([1, 2, 3])"
      ]
     },
     "execution_count": 59,
     "metadata": {},
     "output_type": "execute_result"
    }
   ],
   "source": [
    "X.keys()"
   ]
  },
  {
   "cell_type": "code",
   "execution_count": 60,
   "id": "0b2159ab",
   "metadata": {
    "ExecuteTime": {
     "end_time": "2023-01-06T17:20:49.824151Z",
     "start_time": "2023-01-06T17:20:49.804933Z"
    }
   },
   "outputs": [],
   "source": [
    "#adding va;ues in dictionary(update)"
   ]
  },
  {
   "cell_type": "code",
   "execution_count": 61,
   "id": "7f790e74",
   "metadata": {
    "ExecuteTime": {
     "end_time": "2023-01-06T17:21:50.016085Z",
     "start_time": "2023-01-06T17:21:50.004985Z"
    }
   },
   "outputs": [],
   "source": [
    "X.update({3:56})"
   ]
  },
  {
   "cell_type": "code",
   "execution_count": 62,
   "id": "d927e903",
   "metadata": {
    "ExecuteTime": {
     "end_time": "2023-01-06T17:21:55.097268Z",
     "start_time": "2023-01-06T17:21:55.065204Z"
    }
   },
   "outputs": [
    {
     "data": {
      "text/plain": [
       "{1: 23, 2: 'eda', 3: 56}"
      ]
     },
     "execution_count": 62,
     "metadata": {},
     "output_type": "execute_result"
    }
   ],
   "source": [
    "X\n"
   ]
  },
  {
   "cell_type": "code",
   "execution_count": 63,
   "id": "ef9e3f68",
   "metadata": {
    "ExecuteTime": {
     "end_time": "2023-01-06T17:22:48.009621Z",
     "start_time": "2023-01-06T17:22:47.994875Z"
    }
   },
   "outputs": [],
   "source": [
    "X.update({'car':'bmw'})"
   ]
  },
  {
   "cell_type": "code",
   "execution_count": 64,
   "id": "010fe4b7",
   "metadata": {
    "ExecuteTime": {
     "end_time": "2023-01-06T17:22:57.188131Z",
     "start_time": "2023-01-06T17:22:57.165919Z"
    }
   },
   "outputs": [
    {
     "data": {
      "text/plain": [
       "{1: 23, 2: 'eda', 3: 56, 'car': 'bmw'}"
      ]
     },
     "execution_count": 64,
     "metadata": {},
     "output_type": "execute_result"
    }
   ],
   "source": [
    "X"
   ]
  },
  {
   "cell_type": "code",
   "execution_count": 66,
   "id": "51897f5e",
   "metadata": {
    "ExecuteTime": {
     "end_time": "2023-01-06T17:23:43.583450Z",
     "start_time": "2023-01-06T17:23:43.567443Z"
    }
   },
   "outputs": [
    {
     "data": {
      "text/plain": [
       "23"
      ]
     },
     "execution_count": 66,
     "metadata": {},
     "output_type": "execute_result"
    }
   ],
   "source": [
    "X.pop(1)"
   ]
  },
  {
   "cell_type": "code",
   "execution_count": 67,
   "id": "039230fb",
   "metadata": {
    "ExecuteTime": {
     "end_time": "2023-01-06T17:23:49.454106Z",
     "start_time": "2023-01-06T17:23:49.438100Z"
    }
   },
   "outputs": [
    {
     "data": {
      "text/plain": [
       "{2: 'eda', 3: 56, 'car': 'bmw'}"
      ]
     },
     "execution_count": 67,
     "metadata": {},
     "output_type": "execute_result"
    }
   ],
   "source": [
    "X\n"
   ]
  },
  {
   "cell_type": "code",
   "execution_count": 68,
   "id": "759734ce",
   "metadata": {
    "ExecuteTime": {
     "end_time": "2023-01-06T17:24:20.165262Z",
     "start_time": "2023-01-06T17:24:20.148309Z"
    }
   },
   "outputs": [
    {
     "data": {
      "text/plain": [
       "<function dict.values>"
      ]
     },
     "execution_count": 68,
     "metadata": {},
     "output_type": "execute_result"
    }
   ],
   "source": [
    "X.values"
   ]
  },
  {
   "cell_type": "code",
   "execution_count": 69,
   "id": "f35a3d52",
   "metadata": {
    "ExecuteTime": {
     "end_time": "2023-01-06T17:24:25.145233Z",
     "start_time": "2023-01-06T17:24:25.120857Z"
    }
   },
   "outputs": [
    {
     "data": {
      "text/plain": [
       "{2: 'eda', 3: 56, 'car': 'bmw'}"
      ]
     },
     "execution_count": 69,
     "metadata": {},
     "output_type": "execute_result"
    }
   ],
   "source": [
    "X"
   ]
  },
  {
   "cell_type": "markdown",
   "id": "76a1bcaf",
   "metadata": {},
   "source": [
    "# Set\n",
    "\n",
    "- Set is a collection which is unordered,unindexed.\n",
    "- Set is immutable.\n",
    "- Sets are unordered, so you cannot be sure in which order the items will appear.\n",
    "- Sets do not allow duplicate values.\n",
    "- Once a set is created, you cannot change its items, but you can remove items and add new items.\n",
    "- As sets are unordered, they do not support indexing and slicing operations."
   ]
  },
  {
   "cell_type": "code",
   "execution_count": 70,
   "id": "f3934eab",
   "metadata": {
    "ExecuteTime": {
     "end_time": "2023-01-06T18:55:11.531846Z",
     "start_time": "2023-01-06T18:55:11.507114Z"
    }
   },
   "outputs": [],
   "source": [
    "o = {12,54,90,34}"
   ]
  },
  {
   "cell_type": "code",
   "execution_count": 72,
   "id": "f4f3584f",
   "metadata": {
    "ExecuteTime": {
     "end_time": "2023-01-06T18:55:43.483982Z",
     "start_time": "2023-01-06T18:55:43.458710Z"
    }
   },
   "outputs": [
    {
     "data": {
      "text/plain": [
       "set"
      ]
     },
     "execution_count": 72,
     "metadata": {},
     "output_type": "execute_result"
    }
   ],
   "source": [
    "type(o)"
   ]
  },
  {
   "cell_type": "code",
   "execution_count": 73,
   "id": "8cfeef4a",
   "metadata": {
    "ExecuteTime": {
     "end_time": "2023-01-06T18:56:23.247239Z",
     "start_time": "2023-01-06T18:56:23.229471Z"
    }
   },
   "outputs": [],
   "source": [
    "#does not allow duplicate items"
   ]
  },
  {
   "cell_type": "code",
   "execution_count": 74,
   "id": "82cac804",
   "metadata": {
    "ExecuteTime": {
     "end_time": "2023-01-06T18:56:52.714333Z",
     "start_time": "2023-01-06T18:56:52.704172Z"
    }
   },
   "outputs": [],
   "source": [
    "o = {12,12,54,90,34}"
   ]
  },
  {
   "cell_type": "code",
   "execution_count": 75,
   "id": "0ade6021",
   "metadata": {
    "ExecuteTime": {
     "end_time": "2023-01-06T18:57:04.165875Z",
     "start_time": "2023-01-06T18:57:04.149873Z"
    }
   },
   "outputs": [
    {
     "data": {
      "text/plain": [
       "{12, 34, 54, 90}"
      ]
     },
     "execution_count": 75,
     "metadata": {},
     "output_type": "execute_result"
    }
   ],
   "source": [
    "o"
   ]
  },
  {
   "cell_type": "code",
   "execution_count": 76,
   "id": "cad5a082",
   "metadata": {
    "ExecuteTime": {
     "end_time": "2023-01-06T18:57:30.138940Z",
     "start_time": "2023-01-06T18:57:30.114930Z"
    }
   },
   "outputs": [],
   "source": [
    "#does not support indexing\n"
   ]
  },
  {
   "cell_type": "code",
   "execution_count": 77,
   "id": "89b8c65f",
   "metadata": {
    "ExecuteTime": {
     "end_time": "2023-01-06T18:57:46.812686Z",
     "start_time": "2023-01-06T18:57:46.779357Z"
    }
   },
   "outputs": [
    {
     "ename": "NameError",
     "evalue": "name 's' is not defined",
     "output_type": "error",
     "traceback": [
      "\u001b[1;31m---------------------------------------------------------------------------\u001b[0m",
      "\u001b[1;31mNameError\u001b[0m                                 Traceback (most recent call last)",
      "\u001b[1;32m~\\AppData\\Local\\Temp\\ipykernel_9240\\878419959.py\u001b[0m in \u001b[0;36m<module>\u001b[1;34m\u001b[0m\n\u001b[1;32m----> 1\u001b[1;33m \u001b[0ms\u001b[0m\u001b[1;33m[\u001b[0m\u001b[1;36m1\u001b[0m\u001b[1;33m]\u001b[0m\u001b[1;33m\u001b[0m\u001b[1;33m\u001b[0m\u001b[0m\n\u001b[0m",
      "\u001b[1;31mNameError\u001b[0m: name 's' is not defined"
     ]
    }
   ],
   "source": [
    "s[1]"
   ]
  },
  {
   "cell_type": "code",
   "execution_count": 78,
   "id": "653dba10",
   "metadata": {
    "ExecuteTime": {
     "end_time": "2023-01-06T18:58:18.769499Z",
     "start_time": "2023-01-06T18:58:18.749094Z"
    }
   },
   "outputs": [],
   "source": [
    "#add\n",
    "o.add(6000)"
   ]
  },
  {
   "cell_type": "code",
   "execution_count": 79,
   "id": "0613ec3e",
   "metadata": {
    "ExecuteTime": {
     "end_time": "2023-01-06T18:58:22.921062Z",
     "start_time": "2023-01-06T18:58:22.897132Z"
    }
   },
   "outputs": [
    {
     "data": {
      "text/plain": [
       "{12, 34, 54, 90, 6000}"
      ]
     },
     "execution_count": 79,
     "metadata": {},
     "output_type": "execute_result"
    }
   ],
   "source": [
    "o"
   ]
  },
  {
   "cell_type": "code",
   "execution_count": 82,
   "id": "c91d4c06",
   "metadata": {
    "ExecuteTime": {
     "end_time": "2023-01-06T19:01:18.930877Z",
     "start_time": "2023-01-06T19:01:18.912172Z"
    }
   },
   "outputs": [],
   "source": [
    "we = {'snoop','wiz','pac','west side'}\n",
    "ed ={'nipssey','icecube','biggie','west side'}"
   ]
  },
  {
   "cell_type": "code",
   "execution_count": 83,
   "id": "b0209664",
   "metadata": {
    "ExecuteTime": {
     "end_time": "2023-01-06T19:02:03.758698Z",
     "start_time": "2023-01-06T19:02:03.734692Z"
    }
   },
   "outputs": [
    {
     "data": {
      "text/plain": [
       "{'pac', 'snoop', 'wiz'}"
      ]
     },
     "execution_count": 83,
     "metadata": {},
     "output_type": "execute_result"
    }
   ],
   "source": [
    "we.difference(ed)"
   ]
  },
  {
   "cell_type": "code",
   "execution_count": 84,
   "id": "1df76e1a",
   "metadata": {
    "ExecuteTime": {
     "end_time": "2023-01-06T19:02:15.094184Z",
     "start_time": "2023-01-06T19:02:15.077488Z"
    }
   },
   "outputs": [
    {
     "data": {
      "text/plain": [
       "{'biggie', 'icecube', 'nipssey'}"
      ]
     },
     "execution_count": 84,
     "metadata": {},
     "output_type": "execute_result"
    }
   ],
   "source": [
    "ed.difference(we)"
   ]
  },
  {
   "cell_type": "code",
   "execution_count": 85,
   "id": "a043b86c",
   "metadata": {
    "ExecuteTime": {
     "end_time": "2023-01-06T19:02:39.824602Z",
     "start_time": "2023-01-06T19:02:39.806586Z"
    }
   },
   "outputs": [
    {
     "data": {
      "text/plain": [
       "{'west side'}"
      ]
     },
     "execution_count": 85,
     "metadata": {},
     "output_type": "execute_result"
    }
   ],
   "source": [
    "we.intersection(ed)"
   ]
  },
  {
   "cell_type": "code",
   "execution_count": 86,
   "id": "91acf488",
   "metadata": {
    "ExecuteTime": {
     "end_time": "2023-01-06T19:03:04.757571Z",
     "start_time": "2023-01-06T19:03:04.729379Z"
    }
   },
   "outputs": [
    {
     "data": {
      "text/plain": [
       "{'biggie', 'icecube', 'nipssey', 'pac', 'snoop', 'west side', 'wiz'}"
      ]
     },
     "execution_count": 86,
     "metadata": {},
     "output_type": "execute_result"
    }
   ],
   "source": [
    "we.union(ed)"
   ]
  },
  {
   "cell_type": "code",
   "execution_count": 87,
   "id": "6ff3d5a1",
   "metadata": {
    "ExecuteTime": {
     "end_time": "2023-01-06T19:03:21.711593Z",
     "start_time": "2023-01-06T19:03:21.690260Z"
    }
   },
   "outputs": [
    {
     "data": {
      "text/plain": [
       "<function set.pop>"
      ]
     },
     "execution_count": 87,
     "metadata": {},
     "output_type": "execute_result"
    }
   ],
   "source": [
    "we.pop"
   ]
  },
  {
   "cell_type": "code",
   "execution_count": 88,
   "id": "df44a277",
   "metadata": {
    "ExecuteTime": {
     "end_time": "2023-01-06T19:03:29.298487Z",
     "start_time": "2023-01-06T19:03:29.281481Z"
    }
   },
   "outputs": [
    {
     "data": {
      "text/plain": [
       "{'pac', 'snoop', 'west side', 'wiz'}"
      ]
     },
     "execution_count": 88,
     "metadata": {},
     "output_type": "execute_result"
    }
   ],
   "source": [
    "we\n"
   ]
  },
  {
   "cell_type": "code",
   "execution_count": null,
   "id": "c17c3b53",
   "metadata": {},
   "outputs": [],
   "source": []
  }
 ],
 "metadata": {
  "kernelspec": {
   "display_name": "Python 3 (ipykernel)",
   "language": "python",
   "name": "python3"
  },
  "language_info": {
   "codemirror_mode": {
    "name": "ipython",
    "version": 3
   },
   "file_extension": ".py",
   "mimetype": "text/x-python",
   "name": "python",
   "nbconvert_exporter": "python",
   "pygments_lexer": "ipython3",
   "version": "3.9.13"
  }
 },
 "nbformat": 4,
 "nbformat_minor": 5
}
